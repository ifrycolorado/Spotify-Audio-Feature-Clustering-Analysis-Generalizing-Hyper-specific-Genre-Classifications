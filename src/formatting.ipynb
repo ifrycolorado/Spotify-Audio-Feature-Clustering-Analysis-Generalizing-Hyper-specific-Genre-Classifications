{
 "cells": [
  {
   "cell_type": "code",
   "execution_count": 4,
   "metadata": {},
   "outputs": [],
   "source": [
    "import pandas as pd\n",
    "\n",
    "import matplotlib.pyplot as plt\n",
    "import numpy as np\n",
    "import datetime\n",
    "from datetime import datetime\n",
    "\n",
    "import sklearn as sk \n",
    "from sklearn.linear_model import LinearRegression\n",
    "from sklearn.model_selection import train_test_split\n",
    "\n",
    "import json"
   ]
  },
  {
   "cell_type": "code",
   "execution_count": 5,
   "metadata": {},
   "outputs": [],
   "source": [
    "json_f = open(\"ingestion.json\", \"r\")\n",
    "json_f = json.loads(json_f.read())\n",
    "rename_dd = json_f['Rename']\n",
    "details_dd = json_f[\"Details\"]"
   ]
  },
  {
   "cell_type": "code",
   "execution_count": 15,
   "metadata": {},
   "outputs": [],
   "source": [
    "data_dictionary = open('dd.txt', 'w')\n",
    "\n",
    "for column in details_dd: \n",
    "    \n",
    "    column_name = column.replace('_', ' ')\n",
    "    origin = ''\n",
    "    classt = ''\n",
    "\n",
    "    if details_dd[column][\"origin\"] == \"hot100\":\n",
    "        origin = \"Billboard Hot 100\"\n",
    "    else: \n",
    "        origin = \"Spotify\"\n",
    "    \n",
    "    data_dictionary.write(\"\\\\textbf{\" + column_name + \"}, \" + details_dd[column][\"dtype\"] + \" \\\\par \\n\")\n",
    "    data_dictionary.write(\"Origin: \" + origin + \" \\\\par \\n\")\n",
    "    data_dictionary.write(details_dd[column][\"description\"] + \"\\\\par \\n\")\n",
    "    data_dictionary.write('\\\\noindent\\\\rule{2cm}{0.4pt} \\par \\n\\n')\n",
    "\n",
    "data_dictionary.close()"
   ]
  }
 ],
 "metadata": {
  "kernelspec": {
   "display_name": "Python 3.9.12",
   "language": "python",
   "name": "python3"
  },
  "language_info": {
   "codemirror_mode": {
    "name": "ipython",
    "version": 3
   },
   "file_extension": ".py",
   "mimetype": "text/x-python",
   "name": "python",
   "nbconvert_exporter": "python",
   "pygments_lexer": "ipython3",
   "version": "3.9.12"
  },
  "orig_nbformat": 4,
  "vscode": {
   "interpreter": {
    "hash": "baffb510c3f56943563b437177bccd0e2ab2bb6987472858bd402a66f9f81579"
   }
  }
 },
 "nbformat": 4,
 "nbformat_minor": 2
}
